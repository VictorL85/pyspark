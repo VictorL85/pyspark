{
  "nbformat": 4,
  "nbformat_minor": 0,
  "metadata": {
    "colab": {
      "provenance": [],
      "authorship_tag": "ABX9TyNy9ls0hYQC/lFEHW3tNNxe",
      "include_colab_link": true
    },
    "kernelspec": {
      "name": "python3",
      "display_name": "Python 3"
    },
    "language_info": {
      "name": "python"
    }
  },
  "cells": [
    {
      "cell_type": "markdown",
      "metadata": {
        "id": "view-in-github",
        "colab_type": "text"
      },
      "source": [
        "<a href=\"https://colab.research.google.com/github/VictorL85/pyspark/blob/main/tratamento.ipynb\" target=\"_parent\"><img src=\"https://colab.research.google.com/assets/colab-badge.svg\" alt=\"Open In Colab\"/></a>"
      ]
    },
    {
      "cell_type": "code",
      "execution_count": null,
      "metadata": {
        "colab": {
          "base_uri": "https://localhost:8080/"
        },
        "id": "EECo4C6hMkGp",
        "outputId": "1b717920-419d-413a-b9bc-f40cdbad8468"
      },
      "outputs": [
        {
          "output_type": "stream",
          "name": "stdout",
          "text": [
            "Requirement already satisfied: pyspark in /usr/local/lib/python3.11/dist-packages (3.5.1)\n",
            "Requirement already satisfied: py4j==0.10.9.7 in /usr/local/lib/python3.11/dist-packages (from pyspark) (0.10.9.7)\n"
          ]
        }
      ],
      "source": [
        "!pip install pyspark"
      ]
    },
    {
      "cell_type": "code",
      "source": [
        "import pyspark\n",
        "from pyspark.sql import SparkSession\n",
        "from pyspark.sql.functions import *"
      ],
      "metadata": {
        "id": "kGK9FmLMMoTc"
      },
      "execution_count": null,
      "outputs": []
    },
    {
      "cell_type": "code",
      "source": [
        "spark = SparkSession.builder.getOrCreate()"
      ],
      "metadata": {
        "id": "VuGXv3cmMwQD"
      },
      "execution_count": null,
      "outputs": []
    },
    {
      "cell_type": "code",
      "source": [
        "df_video = spark.read.csv('/content/videos-stats.csv', header=True, inferSchema=True)"
      ],
      "metadata": {
        "id": "vgJRSLhSM0RW"
      },
      "execution_count": null,
      "outputs": []
    },
    {
      "cell_type": "code",
      "source": [
        "df_video = df_video.fillna({'Likes': 0, 'Comments': 0, 'Views': 0})"
      ],
      "metadata": {
        "id": "ZZA4zN3pRqRw"
      },
      "execution_count": null,
      "outputs": []
    },
    {
      "cell_type": "code",
      "source": [
        "df_comentario = spark.read.csv('/content/comments.csv', header=True, inferSchema=True)"
      ],
      "metadata": {
        "id": "OGeknmuPR9v7"
      },
      "execution_count": null,
      "outputs": []
    },
    {
      "cell_type": "code",
      "source": [
        "print(f'quantidade de video: {df_video.count()}')\n",
        "print(f'quantidade de comentarios: {df_comentario.count()}')"
      ],
      "metadata": {
        "colab": {
          "base_uri": "https://localhost:8080/"
        },
        "id": "YaFUMWT_ShnH",
        "outputId": "6bcc4a51-9ace-47e5-e55c-720288e45563"
      },
      "execution_count": null,
      "outputs": [
        {
          "output_type": "stream",
          "name": "stdout",
          "text": [
            "quantidade de video: 1869\n",
            "quantidade de comentarios: 22555\n"
          ]
        }
      ]
    },
    {
      "cell_type": "code",
      "source": [
        "df_video = df_video.dropna(subset=['Video ID'])\n",
        "df_comentario = df_comentario.dropna(subset=['Video ID'])\n",
        "print(f'quantidade de video sem Video ID nulo: {df_video.count()}')\n",
        "print(f'quantidade de comentarios sem Video ID nulo: {df_comentario.count()}')"
      ],
      "metadata": {
        "colab": {
          "base_uri": "https://localhost:8080/"
        },
        "id": "Mu1NI5VtTWZJ",
        "outputId": "79e7fb6e-7442-4e3e-9e4e-8f0a83138d23"
      },
      "execution_count": null,
      "outputs": [
        {
          "output_type": "stream",
          "name": "stdout",
          "text": [
            "quantidade de video sem Video ID nulo: 1881\n",
            "quantidade de comentarios sem Video ID nulo: 22555\n"
          ]
        }
      ]
    },
    {
      "cell_type": "code",
      "source": [
        "df_video = df_video.dropDuplicates(['Video ID'])"
      ],
      "metadata": {
        "id": "-XXhUu8DUjLZ"
      },
      "execution_count": null,
      "outputs": []
    },
    {
      "cell_type": "code",
      "source": [
        "df_comentario.printSchema()"
      ],
      "metadata": {
        "colab": {
          "base_uri": "https://localhost:8080/"
        },
        "id": "5FkIRk6bYH4o",
        "outputId": "987b241a-0853-464b-f767-3457237945b3"
      },
      "execution_count": null,
      "outputs": [
        {
          "output_type": "stream",
          "name": "stdout",
          "text": [
            "root\n",
            " |-- _c0: string (nullable = true)\n",
            " |-- Video ID: string (nullable = true)\n",
            " |-- Comment: string (nullable = true)\n",
            " |-- Likes Comment: integer (nullable = true)\n",
            " |-- Sentiment: integer (nullable = true)\n",
            "\n"
          ]
        }
      ]
    },
    {
      "cell_type": "code",
      "source": [
        "df_video.printSchema()"
      ],
      "metadata": {
        "colab": {
          "base_uri": "https://localhost:8080/"
        },
        "id": "71wbfgp5VwM3",
        "outputId": "0c7fbf60-f24a-4974-cfb1-52fb87febe54"
      },
      "execution_count": null,
      "outputs": [
        {
          "output_type": "stream",
          "name": "stdout",
          "text": [
            "root\n",
            " |-- _c0: integer (nullable = true)\n",
            " |-- Title: string (nullable = true)\n",
            " |-- Video ID: string (nullable = true)\n",
            " |-- Published At: date (nullable = true)\n",
            " |-- Keyword: string (nullable = true)\n",
            " |-- Likes: integer (nullable = true)\n",
            " |-- Comments: integer (nullable = true)\n",
            " |-- Views: integer (nullable = true)\n",
            " |-- Interaction: integer (nullable = true)\n",
            " |-- Year: string (nullable = true)\n",
            "\n"
          ]
        }
      ]
    },
    {
      "cell_type": "code",
      "source": [
        "df_video = df_video.\\\n",
        "withColumn('Likes', col('Likes').cast('int')).\\\n",
        "withColumn('Comments', col('Comments').cast('int')).\\\n",
        "withColumn('Views', col('Views').cast('int'))"
      ],
      "metadata": {
        "id": "6U3lS6gLW0Ww"
      },
      "execution_count": null,
      "outputs": []
    },
    {
      "cell_type": "code",
      "source": [
        "df_comentario = df_comentario.\\\n",
        "withColumn('Likes', col('Likes').cast('int')).\\\n",
        "withColumn('Sentiment', col('Sentiment').cast('int')).\\\n",
        "withColumnRenamed('Likes','Likes Comment')"
      ],
      "metadata": {
        "id": "w6TQhyLzXuwi"
      },
      "execution_count": null,
      "outputs": []
    },
    {
      "cell_type": "code",
      "source": [
        "df_video = df_video.withColumn('Interaction', col('Likes') + col('Comments') + col('Views'))"
      ],
      "metadata": {
        "id": "8iBIzFpXY6Kd"
      },
      "execution_count": null,
      "outputs": []
    },
    {
      "cell_type": "code",
      "source": [
        "df_video = df_video.withColumn('Published At', to_date(col('Published At')))"
      ],
      "metadata": {
        "id": "MlrP0OrtZoGn"
      },
      "execution_count": null,
      "outputs": []
    },
    {
      "cell_type": "code",
      "source": [
        "df_video = df_video.withColumn('Year', date_format(col('Published At'),'yyyy'))"
      ],
      "metadata": {
        "id": "c4uHoqUclgaD"
      },
      "execution_count": null,
      "outputs": []
    },
    {
      "cell_type": "code",
      "source": [
        "df_join_video_comments = df_video.join(df_comentario,'Video ID','inner')"
      ],
      "metadata": {
        "id": "uDkmxuimmF2M"
      },
      "execution_count": null,
      "outputs": []
    },
    {
      "cell_type": "code",
      "source": [
        "df_us_videos = spark.read.csv('/content/USvideos.csv', header=True, inferSchema=True)"
      ],
      "metadata": {
        "id": "0aYRRGP5meic"
      },
      "execution_count": null,
      "outputs": []
    },
    {
      "cell_type": "code",
      "source": [
        "df_join_video_usvideos = df_video.join(df_us_videos,df_video['Title'] == df_us_videos['Title'])"
      ],
      "metadata": {
        "id": "6GNNcYutnKnt"
      },
      "execution_count": null,
      "outputs": []
    },
    {
      "cell_type": "code",
      "source": [
        "df_join_video_usvideos.printSchema()"
      ],
      "metadata": {
        "colab": {
          "base_uri": "https://localhost:8080/"
        },
        "id": "PZVIV-4ynpqb",
        "outputId": "8d7b3dec-2e39-4568-d618-abbe3b5b636a"
      },
      "execution_count": null,
      "outputs": [
        {
          "output_type": "stream",
          "name": "stdout",
          "text": [
            "root\n",
            " |-- _c0: integer (nullable = true)\n",
            " |-- Title: string (nullable = true)\n",
            " |-- Video ID: string (nullable = true)\n",
            " |-- Published At: date (nullable = true)\n",
            " |-- Keyword: string (nullable = true)\n",
            " |-- Likes: integer (nullable = true)\n",
            " |-- Comments: integer (nullable = true)\n",
            " |-- Views: integer (nullable = true)\n",
            " |-- Interaction: integer (nullable = true)\n",
            " |-- Year: string (nullable = true)\n",
            " |-- video_id: string (nullable = true)\n",
            " |-- trending_date: string (nullable = true)\n",
            " |-- title: string (nullable = true)\n",
            " |-- channel_title: string (nullable = true)\n",
            " |-- category_id: string (nullable = true)\n",
            " |-- publish_time: string (nullable = true)\n",
            " |-- tags: string (nullable = true)\n",
            " |-- views: string (nullable = true)\n",
            " |-- likes: string (nullable = true)\n",
            " |-- dislikes: string (nullable = true)\n",
            " |-- comment_count: string (nullable = true)\n",
            " |-- thumbnail_link: string (nullable = true)\n",
            " |-- comments_disabled: string (nullable = true)\n",
            " |-- ratings_disabled: string (nullable = true)\n",
            " |-- video_error_or_removed: string (nullable = true)\n",
            " |-- description: string (nullable = true)\n",
            "\n"
          ]
        }
      ]
    },
    {
      "cell_type": "code",
      "source": [
        "df_video.select([count(when(col(c).isNull(),c)).alias(c)for c in df_video.columns]).show()"
      ],
      "metadata": {
        "colab": {
          "base_uri": "https://localhost:8080/"
        },
        "id": "gJRxCzE8phoW",
        "outputId": "f67e7c9e-0c3b-4f87-bcba-f386f2af3fb8"
      },
      "execution_count": null,
      "outputs": [
        {
          "output_type": "stream",
          "name": "stdout",
          "text": [
            "+---+-----+--------+------------+-------+-----+--------+-----+-----------+----+\n",
            "|_c0|Title|Video ID|Published At|Keyword|Likes|Comments|Views|Interaction|Year|\n",
            "+---+-----+--------+------------+-------+-----+--------+-----+-----------+----+\n",
            "|  0|    0|       0|           0|      0|    0|       0|    0|          0|   0|\n",
            "+---+-----+--------+------------+-------+-----+--------+-----+-----------+----+\n",
            "\n"
          ]
        }
      ]
    },
    {
      "cell_type": "code",
      "source": [
        "df_video.drop('_c0').write.mode('overwrite').option('header','true').parquet('videos-tratados-parquet')"
      ],
      "metadata": {
        "id": "i-T37FgsrVu3"
      },
      "execution_count": null,
      "outputs": []
    },
    {
      "cell_type": "code",
      "source": [
        "df_join_video_comments.printSchema()"
      ],
      "metadata": {
        "colab": {
          "base_uri": "https://localhost:8080/"
        },
        "id": "KfHT8olHuOjS",
        "outputId": "fcd8caed-5e18-4e25-e63b-77b159310336"
      },
      "execution_count": null,
      "outputs": [
        {
          "output_type": "stream",
          "name": "stdout",
          "text": [
            "root\n",
            " |-- Video ID: string (nullable = true)\n",
            " |-- Title: string (nullable = true)\n",
            " |-- Published At: date (nullable = true)\n",
            " |-- Keyword: string (nullable = true)\n",
            " |-- Likes: integer (nullable = true)\n",
            " |-- Comments: integer (nullable = true)\n",
            " |-- Views: integer (nullable = true)\n",
            " |-- Interaction: integer (nullable = true)\n",
            " |-- Year: string (nullable = true)\n",
            " |-- Comment: string (nullable = true)\n",
            " |-- Likes Comment: integer (nullable = true)\n",
            " |-- Sentiment: integer (nullable = true)\n",
            "\n"
          ]
        }
      ]
    },
    {
      "cell_type": "code",
      "source": [
        "df_join_video_comments = df_join_video_comments.drop('_c0')"
      ],
      "metadata": {
        "id": "5YEQprkduyMY"
      },
      "execution_count": null,
      "outputs": []
    },
    {
      "cell_type": "code",
      "source": [
        "df_join_video_comments.write.mode('overwrite').option('header','true').parquet('videos-comments-tratados-parquet')"
      ],
      "metadata": {
        "id": "7mC0kX6lvUtA"
      },
      "execution_count": null,
      "outputs": []
    },
    {
      "cell_type": "code",
      "source": [
        "spark.stop()"
      ],
      "metadata": {
        "id": "9uzfDManw2MP"
      },
      "execution_count": null,
      "outputs": []
    }
  ]
}