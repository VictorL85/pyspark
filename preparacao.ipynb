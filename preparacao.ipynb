{
  "nbformat": 4,
  "nbformat_minor": 0,
  "metadata": {
    "colab": {
      "provenance": [],
      "authorship_tag": "ABX9TyNYXWclZaWU666+A28oP3Of",
      "include_colab_link": true
    },
    "kernelspec": {
      "name": "python3",
      "display_name": "Python 3"
    },
    "language_info": {
      "name": "python"
    }
  },
  "cells": [
    {
      "cell_type": "markdown",
      "metadata": {
        "id": "view-in-github",
        "colab_type": "text"
      },
      "source": [
        "<a href=\"https://colab.research.google.com/github/VictorL85/pyspark/blob/main/preparacao.ipynb\" target=\"_parent\"><img src=\"https://colab.research.google.com/assets/colab-badge.svg\" alt=\"Open In Colab\"/></a>"
      ]
    },
    {
      "cell_type": "code",
      "execution_count": null,
      "metadata": {
        "colab": {
          "base_uri": "https://localhost:8080/"
        },
        "id": "SmZehTwpASxH",
        "outputId": "9cd3a038-0754-407d-ac5f-74bfd8e5bc3d"
      },
      "outputs": [
        {
          "output_type": "stream",
          "name": "stdout",
          "text": [
            "Requirement already satisfied: pyspark in /usr/local/lib/python3.11/dist-packages (3.5.1)\n",
            "Requirement already satisfied: py4j==0.10.9.7 in /usr/local/lib/python3.11/dist-packages (from pyspark) (0.10.9.7)\n"
          ]
        }
      ],
      "source": [
        "!pip install pyspark"
      ]
    },
    {
      "cell_type": "code",
      "source": [
        "import pyspark\n",
        "from pyspark.sql import SparkSession\n",
        "from pyspark.sql.functions import *\n",
        "from pyspark.ml.feature import StringIndexer, VectorAssembler, MinMaxScaler, PCA\n",
        "from pyspark.ml.regression import LinearRegression"
      ],
      "metadata": {
        "id": "zACCwW40AgPJ"
      },
      "execution_count": null,
      "outputs": []
    },
    {
      "cell_type": "code",
      "source": [
        "spark = SparkSession.builder.getOrCreate()"
      ],
      "metadata": {
        "id": "mxKAKUV6AvzR"
      },
      "execution_count": null,
      "outputs": []
    },
    {
      "cell_type": "code",
      "source": [
        "df_video = spark.read.parquet('/content/videos-comments-tratados.snappy.parquet', header=True, inferSchema=True)"
      ],
      "metadata": {
        "id": "ufJfmrF1A8m7"
      },
      "execution_count": null,
      "outputs": []
    },
    {
      "cell_type": "code",
      "source": [
        "df_video.show(n=1)"
      ],
      "metadata": {
        "colab": {
          "base_uri": "https://localhost:8080/"
        },
        "id": "MH-QttIVCesM",
        "outputId": "6525c727-b37f-4bed-d8d0-e261ab812abb"
      },
      "execution_count": null,
      "outputs": [
        {
          "output_type": "stream",
          "name": "stdout",
          "text": [
            "+-----------+--------------------+------------+-------+-----+--------+------+-----------+----+--------------------+---------+-------------+\n",
            "|   Video ID|               Title|Published At|Keyword|Likes|Comments| Views|Interaction|Year|             Comment|Sentiment|Likes Comment|\n",
            "+-----------+--------------------+------------+-------+-----+--------+------+-----------+----+--------------------+---------+-------------+\n",
            "|wAZZ-UWGVHI|Apple Pay Is Kill...|  2022-08-23|   tech| 3407|     672|135612|     139691|2022|Let's not forget ...|        1|           95|\n",
            "+-----------+--------------------+------------+-------+-----+--------+------+-----------+----+--------------------+---------+-------------+\n",
            "only showing top 1 row\n",
            "\n"
          ]
        }
      ]
    },
    {
      "cell_type": "code",
      "metadata": {
        "id": "49bbb437"
      },
      "source": [
        "df_video = df_video.withColumn('Month', month(col('Published At')))"
      ],
      "execution_count": null,
      "outputs": []
    },
    {
      "cell_type": "code",
      "source": [
        "inde = StringIndexer(inputCol='Keyword', outputCol='keyword_index')\n",
        "df_video = inde.fit(df_video).transform(df_video)"
      ],
      "metadata": {
        "id": "-GOpo2bZEUjS"
      },
      "execution_count": null,
      "outputs": []
    },
    {
      "cell_type": "code",
      "metadata": {
        "id": "8f429b02"
      },
      "source": [
        "df_video = df_video.withColumn('Year', col('Year').cast('int'))"
      ],
      "execution_count": null,
      "outputs": []
    },
    {
      "cell_type": "code",
      "source": [
        "df_video.printSchema()"
      ],
      "metadata": {
        "colab": {
          "base_uri": "https://localhost:8080/"
        },
        "id": "XjQ1PEYyBuCw",
        "outputId": "314c973b-5d94-40f0-e71f-24b787d88535"
      },
      "execution_count": null,
      "outputs": [
        {
          "output_type": "stream",
          "name": "stdout",
          "text": [
            "root\n",
            " |-- Video ID: string (nullable = true)\n",
            " |-- Title: string (nullable = true)\n",
            " |-- Published At: date (nullable = true)\n",
            " |-- Keyword: string (nullable = true)\n",
            " |-- Likes: integer (nullable = true)\n",
            " |-- Comments: integer (nullable = true)\n",
            " |-- Views: integer (nullable = true)\n",
            " |-- Interaction: integer (nullable = true)\n",
            " |-- Year: integer (nullable = true)\n",
            " |-- Comment: string (nullable = true)\n",
            " |-- Sentiment: integer (nullable = true)\n",
            " |-- Likes Comment: integer (nullable = true)\n",
            " |-- Month: integer (nullable = true)\n",
            " |-- keyword_index: double (nullable = false)\n",
            " |-- features: vector (nullable = true)\n",
            " |-- Features Normal: vector (nullable = true)\n",
            " |-- Features PCA: vector (nullable = true)\n",
            "\n"
          ]
        }
      ]
    },
    {
      "cell_type": "code",
      "source": [
        "vetor = VectorAssembler(inputCols=['Likes','Views','Year','Month','keyword_index'], outputCol='features')\n",
        "df_video = vetor.transform(df_video)"
      ],
      "metadata": {
        "id": "zKmzFCynHDSa"
      },
      "execution_count": null,
      "outputs": []
    },
    {
      "cell_type": "code",
      "source": [
        "scaler = MinMaxScaler(inputCol='features', outputCol='Features Normal')\n",
        "df_video = scaler.fit(df_video).transform(df_video)"
      ],
      "metadata": {
        "id": "P97JYnm3Kxd_"
      },
      "execution_count": null,
      "outputs": []
    },
    {
      "cell_type": "code",
      "source": [
        "pca = PCA(k=1, inputCol='Features Normal', outputCol='Features PCA')\n",
        "df_video = pca.fit(df_video).transform(df_video)"
      ],
      "metadata": {
        "id": "Ra4fIIWuNjkg"
      },
      "execution_count": null,
      "outputs": []
    },
    {
      "cell_type": "code",
      "source": [
        "train_df, test_df = df_video.randomSplit([0.8, 0.2], seed=42)\n",
        "print(f\"treino: {train_df.count()} e teste: {test_df.count()}\")"
      ],
      "metadata": {
        "colab": {
          "base_uri": "https://localhost:8080/"
        },
        "id": "9TkAwMKmNvrT",
        "outputId": "ad2d7283-d14a-41c3-bfd6-7193234c59e3"
      },
      "execution_count": null,
      "outputs": [
        {
          "output_type": "stream",
          "name": "stdout",
          "text": [
            "treino: 14789 e teste: 3620\n"
          ]
        }
      ]
    },
    {
      "cell_type": "code",
      "source": [
        "regre = LinearRegression(featuresCol='Features Normal', labelCol='Comments')\n",
        "model = regre.fit(train_df)\n",
        "avaliar = model.evaluate(test_df)\n",
        "print(f\"RMSE: {avaliar.rootMeanSquaredError} e R2: {avaliar.r2}\")"
      ],
      "metadata": {
        "colab": {
          "base_uri": "https://localhost:8080/"
        },
        "id": "ItywFPwcTKKG",
        "outputId": "4de5cd75-682c-466e-af2d-61fafcce93e0"
      },
      "execution_count": null,
      "outputs": [
        {
          "output_type": "stream",
          "name": "stdout",
          "text": [
            "RMSE: 25370.3336201662 e R2: 0.6602413154888491\n"
          ]
        }
      ]
    },
    {
      "cell_type": "code",
      "source": [
        "df_video.write.mode('overwrite').parquet('videos-preparados-parquet')"
      ],
      "metadata": {
        "id": "X1hssqQxUDkA"
      },
      "execution_count": null,
      "outputs": []
    },
    {
      "cell_type": "code",
      "source": [
        "spark.stop()"
      ],
      "metadata": {
        "id": "ZmIGv1DUUtsU"
      },
      "execution_count": null,
      "outputs": []
    }
  ]
}