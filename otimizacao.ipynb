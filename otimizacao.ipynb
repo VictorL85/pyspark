{
  "nbformat": 4,
  "nbformat_minor": 0,
  "metadata": {
    "colab": {
      "provenance": [],
      "authorship_tag": "ABX9TyODtSJdbnvhhhEkhR17FOXO",
      "include_colab_link": true
    },
    "kernelspec": {
      "name": "python3",
      "display_name": "Python 3"
    },
    "language_info": {
      "name": "python"
    }
  },
  "cells": [
    {
      "cell_type": "markdown",
      "metadata": {
        "id": "view-in-github",
        "colab_type": "text"
      },
      "source": [
        "<a href=\"https://colab.research.google.com/github/VictorL85/pyspark/blob/main/otimizacao.ipynb\" target=\"_parent\"><img src=\"https://colab.research.google.com/assets/colab-badge.svg\" alt=\"Open In Colab\"/></a>"
      ]
    },
    {
      "cell_type": "code",
      "execution_count": null,
      "metadata": {
        "id": "AF9GqKaoihP6"
      },
      "outputs": [],
      "source": [
        "!pip install pyspark"
      ]
    },
    {
      "cell_type": "code",
      "source": [
        "from pyspark.sql import SparkSession\n",
        "from pyspark.sql.functions import col"
      ],
      "metadata": {
        "id": "fM875BF0lAsW"
      },
      "execution_count": null,
      "outputs": []
    },
    {
      "cell_type": "code",
      "metadata": {
        "id": "9d91c03d"
      },
      "source": [
        "spark = SparkSession.builder.getOrCreate()"
      ],
      "execution_count": null,
      "outputs": []
    },
    {
      "cell_type": "code",
      "metadata": {
        "id": "78807db2"
      },
      "source": [
        "df_video = spark.read.parquet(\"/content/videos-preparados.snappy.parquet\")\n",
        "df_comments = spark.read.parquet(\"/content/videos-comments-tratados.snappy.parquet\")"
      ],
      "execution_count": null,
      "outputs": []
    },
    {
      "cell_type": "code",
      "source": [
        "df_video.printSchema()"
      ],
      "metadata": {
        "colab": {
          "base_uri": "https://localhost:8080/"
        },
        "id": "Ih_oC4dIlSfI",
        "outputId": "1bacf4dd-75ee-4463-9f68-c10138ddbe6b"
      },
      "execution_count": null,
      "outputs": [
        {
          "output_type": "stream",
          "name": "stdout",
          "text": [
            "root\n",
            " |-- Title: string (nullable = true)\n",
            " |-- Video ID: string (nullable = true)\n",
            " |-- Published At: date (nullable = true)\n",
            " |-- Keyword: string (nullable = true)\n",
            " |-- Likes: integer (nullable = true)\n",
            " |-- Comments: integer (nullable = true)\n",
            " |-- Views: integer (nullable = true)\n",
            " |-- Interaction: integer (nullable = true)\n",
            " |-- Year: integer (nullable = true)\n",
            " |-- Month: integer (nullable = true)\n",
            " |-- Keyword Index: double (nullable = true)\n",
            " |-- Features PCA: vector (nullable = true)\n",
            " |-- Features Normal: vector (nullable = true)\n",
            " |-- Features: vector (nullable = true)\n",
            "\n"
          ]
        }
      ]
    },
    {
      "cell_type": "code",
      "source": [
        "df_comments.printSchema()"
      ],
      "metadata": {
        "colab": {
          "base_uri": "https://localhost:8080/"
        },
        "id": "a-8PKdLNlVoM",
        "outputId": "196a289a-2285-4084-f9ee-85d37a4d7b78"
      },
      "execution_count": null,
      "outputs": [
        {
          "output_type": "stream",
          "name": "stdout",
          "text": [
            "root\n",
            " |-- Video ID: string (nullable = true)\n",
            " |-- Title: string (nullable = true)\n",
            " |-- Published At: date (nullable = true)\n",
            " |-- Keyword: string (nullable = true)\n",
            " |-- Likes: integer (nullable = true)\n",
            " |-- Comments: integer (nullable = true)\n",
            " |-- Views: integer (nullable = true)\n",
            " |-- Interaction: integer (nullable = true)\n",
            " |-- Year: string (nullable = true)\n",
            " |-- Comment: string (nullable = true)\n",
            " |-- Sentiment: integer (nullable = true)\n",
            " |-- Likes Comment: integer (nullable = true)\n",
            "\n"
          ]
        }
      ]
    },
    {
      "cell_type": "code",
      "metadata": {
        "id": "b388282b"
      },
      "source": [
        "df_video.createOrReplaceTempView(\"videos\")\n",
        "df_comments.createOrReplaceTempView(\"comments\")"
      ],
      "execution_count": null,
      "outputs": []
    },
    {
      "cell_type": "code",
      "metadata": {
        "id": "bdf1d43c"
      },
      "source": [
        "join_video_comments = spark.sql(\"SELECT v.*, c.Comment, c.Sentiment, c.`Likes Comment` FROM videos v JOIN comments c ON v.`Video ID` = c.`Video ID`\")"
      ],
      "execution_count": null,
      "outputs": []
    },
    {
      "cell_type": "code",
      "metadata": {
        "id": "48700bcd"
      },
      "source": [
        "# Realizando repartition das tabelas\n",
        "df_video_re = df_video.repartition(\"Video ID\")\n",
        "df_comments_re = df_comments.repartition(\"Video ID\")\n",
        "# Criando tabelas temporárias das tabelas repartitionados\n",
        "df_video_re.createOrReplaceTempView(\"videos_repartitioned\")\n",
        "df_comments_re.createOrReplaceTempView(\"comments_repartitioned\")\n",
        "# Realizando o join entre as tabelas usando o SQL\n",
        "join_video_comments_re = spark.sql(\"\"\"\n",
        "    SELECT\n",
        "        v.*,\n",
        "        c.Comment,\n",
        "        c.Sentiment,\n",
        "        c.`Likes Comment`\n",
        "    FROM videos_repartitioned v\n",
        "    JOIN comments_repartitioned c\n",
        "    ON v.`Video ID` = c.`Video ID`\n",
        "\"\"\")"
      ],
      "execution_count": null,
      "outputs": []
    },
    {
      "cell_type": "code",
      "metadata": {
        "colab": {
          "base_uri": "https://localhost:8080/"
        },
        "id": "e30d8381",
        "outputId": "469fa06f-84ae-407b-9ee4-921051bb7b4e"
      },
      "source": [
        "# Exibe o coalesce de join_video_comments\n",
        "join_video_comments.explain()"
      ],
      "execution_count": null,
      "outputs": [
        {
          "output_type": "stream",
          "name": "stdout",
          "text": [
            "== Physical Plan ==\n",
            "AdaptiveSparkPlan isFinalPlan=false\n",
            "+- Project [Title#777, Video ID#778, Published At#779, Keyword#780, Likes#781, Comments#782, Views#783, Interaction#784, Year#785, Month#786, Keyword Index#787, Features PCA#788, Features Normal#789, Features#790, Comment#814, Sentiment#815, Likes Comment#816]\n",
            "   +- BroadcastHashJoin [Video ID#778], [Video ID#805], Inner, BuildLeft, false\n",
            "      :- BroadcastExchange HashedRelationBroadcastMode(List(input[1, string, false]),false), [plan_id=475]\n",
            "      :  +- Filter isnotnull(Video ID#778)\n",
            "      :     +- FileScan parquet [Title#777,Video ID#778,Published At#779,Keyword#780,Likes#781,Comments#782,Views#783,Interaction#784,Year#785,Month#786,Keyword Index#787,Features PCA#788,Features Normal#789,Features#790] Batched: true, DataFilters: [isnotnull(Video ID#778)], Format: Parquet, Location: InMemoryFileIndex(1 paths)[file:/content/videos-preparados.snappy.parquet], PartitionFilters: [], PushedFilters: [IsNotNull(`Video ID`)], ReadSchema: struct<Title:string,Video ID:string,Published At:date,Keyword:string,Likes:int,Comments:int,Views...\n",
            "      +- Filter isnotnull(Video ID#805)\n",
            "         +- FileScan parquet [Video ID#805,Comment#814,Sentiment#815,Likes Comment#816] Batched: true, DataFilters: [isnotnull(Video ID#805)], Format: Parquet, Location: InMemoryFileIndex(1 paths)[file:/content/videos-comments-tratados.snappy.parquet], PartitionFilters: [], PushedFilters: [IsNotNull(`Video ID`)], ReadSchema: struct<Video ID:string,Comment:string,Sentiment:int,Likes Comment:int>\n",
            "\n",
            "\n"
          ]
        }
      ]
    },
    {
      "cell_type": "code",
      "metadata": {
        "colab": {
          "base_uri": "https://localhost:8080/"
        },
        "id": "41ae4d9d",
        "outputId": "e3307ca5-579b-4139-8fc6-14dcb10660be"
      },
      "source": [
        "# Exibe o coalesce de join_video_comments_re\n",
        "join_video_comments_re.explain()"
      ],
      "execution_count": null,
      "outputs": [
        {
          "output_type": "stream",
          "name": "stdout",
          "text": [
            "== Physical Plan ==\n",
            "AdaptiveSparkPlan isFinalPlan=false\n",
            "+- Project [Title#777, Video ID#778, Published At#779, Keyword#780, Likes#781, Comments#782, Views#783, Interaction#784, Year#785, Month#786, Keyword Index#787, Features PCA#788, Features Normal#789, Features#790, Comment#814, Sentiment#815, Likes Comment#816]\n",
            "   +- BroadcastHashJoin [Video ID#778], [Video ID#805], Inner, BuildLeft, false\n",
            "      :- BroadcastExchange HashedRelationBroadcastMode(List(input[1, string, false]),false), [plan_id=514]\n",
            "      :  +- Exchange hashpartitioning(Video ID#778, 200), REPARTITION_BY_COL, [plan_id=510]\n",
            "      :     +- Filter isnotnull(Video ID#778)\n",
            "      :        +- FileScan parquet [Title#777,Video ID#778,Published At#779,Keyword#780,Likes#781,Comments#782,Views#783,Interaction#784,Year#785,Month#786,Keyword Index#787,Features PCA#788,Features Normal#789,Features#790] Batched: true, DataFilters: [isnotnull(Video ID#778)], Format: Parquet, Location: InMemoryFileIndex(1 paths)[file:/content/videos-preparados.snappy.parquet], PartitionFilters: [], PushedFilters: [IsNotNull(`Video ID`)], ReadSchema: struct<Title:string,Video ID:string,Published At:date,Keyword:string,Likes:int,Comments:int,Views...\n",
            "      +- Exchange hashpartitioning(Video ID#805, 200), REPARTITION_BY_COL, [plan_id=511]\n",
            "         +- Filter isnotnull(Video ID#805)\n",
            "            +- FileScan parquet [Video ID#805,Comment#814,Sentiment#815,Likes Comment#816] Batched: true, DataFilters: [isnotnull(Video ID#805)], Format: Parquet, Location: InMemoryFileIndex(1 paths)[file:/content/videos-comments-tratados.snappy.parquet], PartitionFilters: [], PushedFilters: [IsNotNull(`Video ID`)], ReadSchema: struct<Video ID:string,Comment:string,Sentiment:int,Likes Comment:int>\n",
            "\n",
            "\n"
          ]
        }
      ]
    },
    {
      "cell_type": "code",
      "metadata": {
        "id": "c6b794a1"
      },
      "source": [
        "# Filtrando as tabelas para o ano = 2023(pois foi o que a IA me recomendou com \"dados necessários\"\n",
        "df_video_fil = df_video.filter(col(\"Year\") == 2023)\n",
        "df_comments_fil = df_comments.filter(col(\"Year\").cast(\"int\") == 2023)\n",
        "# Realizando o join entre as tabelas filtradas com \"Video ID\" para uni-las\n",
        "join_video_comments_op = df_video_fil.join(\n",
        "    df_comments_fil,\n",
        "    df_video_fil[\"Video ID\"] == df_comments_fil[\"Video ID\"],\n",
        "    \"inner\"\n",
        ").select(\n",
        "    df_video_fil[\"*\"],\n",
        "    df_comments_fil[\"Comment\"],\n",
        "    df_comments_fil[\"Sentiment\"],\n",
        "    df_comments_fil[\"Likes Comment\"]\n",
        ")"
      ],
      "execution_count": null,
      "outputs": []
    },
    {
      "cell_type": "code",
      "source": [
        "# Exibe o coalesce de join_video_comments_op\n",
        "join_video_comments_op.explain()"
      ],
      "metadata": {
        "colab": {
          "base_uri": "https://localhost:8080/"
        },
        "id": "srwNPkOXoUKO",
        "outputId": "78ed03f4-661f-4cb3-a8b2-3881b7994997"
      },
      "execution_count": null,
      "outputs": [
        {
          "output_type": "stream",
          "name": "stdout",
          "text": [
            "== Physical Plan ==\n",
            "AdaptiveSparkPlan isFinalPlan=false\n",
            "+- Project [Title#777, Video ID#778, Published At#779, Keyword#780, Likes#781, Comments#782, Views#783, Interaction#784, Year#785, Month#786, Keyword Index#787, Features PCA#788, Features Normal#789, Features#790, Comment#814, Sentiment#815, Likes Comment#816]\n",
            "   +- BroadcastHashJoin [Video ID#778], [Video ID#805], Inner, BuildLeft, false\n",
            "      :- BroadcastExchange HashedRelationBroadcastMode(List(input[1, string, false]),false), [plan_id=543]\n",
            "      :  +- Filter ((isnotnull(Year#785) AND (Year#785 = 2023)) AND isnotnull(Video ID#778))\n",
            "      :     +- FileScan parquet [Title#777,Video ID#778,Published At#779,Keyword#780,Likes#781,Comments#782,Views#783,Interaction#784,Year#785,Month#786,Keyword Index#787,Features PCA#788,Features Normal#789,Features#790] Batched: true, DataFilters: [isnotnull(Year#785), (Year#785 = 2023), isnotnull(Video ID#778)], Format: Parquet, Location: InMemoryFileIndex(1 paths)[file:/content/videos-preparados.snappy.parquet], PartitionFilters: [], PushedFilters: [IsNotNull(Year), EqualTo(Year,2023), IsNotNull(`Video ID`)], ReadSchema: struct<Title:string,Video ID:string,Published At:date,Keyword:string,Likes:int,Comments:int,Views...\n",
            "      +- Project [Video ID#805, Comment#814, Sentiment#815, Likes Comment#816]\n",
            "         +- Filter ((isnotnull(Year#813) AND (cast(Year#813 as int) = 2023)) AND isnotnull(Video ID#805))\n",
            "            +- FileScan parquet [Video ID#805,Year#813,Comment#814,Sentiment#815,Likes Comment#816] Batched: true, DataFilters: [isnotnull(Year#813), (cast(Year#813 as int) = 2023), isnotnull(Video ID#805)], Format: Parquet, Location: InMemoryFileIndex(1 paths)[file:/content/videos-comments-tratados.snappy.parquet], PartitionFilters: [], PushedFilters: [IsNotNull(Year), IsNotNull(`Video ID`)], ReadSchema: struct<Video ID:string,Year:string,Comment:string,Sentiment:int,Likes Comment:int>\n",
            "\n",
            "\n"
          ]
        }
      ]
    },
    {
      "cell_type": "code",
      "metadata": {
        "id": "f596f9c5"
      },
      "source": [
        "#Salvando a tabela no formato parquet\n",
        "join_video_comments_op.write.mode(\"overwrite\").parquet(\"join-videos-comments-otimizado\")"
      ],
      "execution_count": null,
      "outputs": []
    },
    {
      "cell_type": "code",
      "source": [
        "spark.stop()"
      ],
      "metadata": {
        "id": "Ruio9pGnxZ0r"
      },
      "execution_count": null,
      "outputs": []
    }
  ]
}