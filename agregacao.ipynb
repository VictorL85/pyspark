{
  "nbformat": 4,
  "nbformat_minor": 0,
  "metadata": {
    "colab": {
      "provenance": [],
      "authorship_tag": "ABX9TyPNFKxsb6HTBF9DmmILOtR2",
      "include_colab_link": true
    },
    "kernelspec": {
      "name": "python3",
      "display_name": "Python 3"
    },
    "language_info": {
      "name": "python"
    }
  },
  "cells": [
    {
      "cell_type": "markdown",
      "metadata": {
        "id": "view-in-github",
        "colab_type": "text"
      },
      "source": [
        "<a href=\"https://colab.research.google.com/github/VictorL85/pyspark/blob/main/agregacao.ipynb\" target=\"_parent\"><img src=\"https://colab.research.google.com/assets/colab-badge.svg\" alt=\"Open In Colab\"/></a>"
      ]
    },
    {
      "cell_type": "code",
      "execution_count": null,
      "metadata": {
        "id": "9KPrdt8qUlA9"
      },
      "outputs": [],
      "source": [
        "!pip install pyspark"
      ]
    },
    {
      "cell_type": "code",
      "source": [
        "import pyspark\n",
        "from pyspark.sql import SparkSession\n",
        "from pyspark.sql.functions import *\n",
        "from pyspark.sql.window import Window"
      ],
      "metadata": {
        "id": "HOcsBW3oQgVS"
      },
      "execution_count": null,
      "outputs": []
    },
    {
      "cell_type": "code",
      "source": [
        "spark = SparkSession.builder.getOrCreate()"
      ],
      "metadata": {
        "id": "ua2lU7_7QlUh"
      },
      "execution_count": null,
      "outputs": []
    },
    {
      "cell_type": "code",
      "source": [
        "df_video = spark.read.parquet('/content/videos-preparados.snappy.parquet', header=True, inferSchema=True)"
      ],
      "metadata": {
        "id": "zC6hpxo5Q-W-"
      },
      "execution_count": null,
      "outputs": []
    },
    {
      "cell_type": "code",
      "source": [
        "df_video.printSchema()"
      ],
      "metadata": {
        "colab": {
          "base_uri": "https://localhost:8080/"
        },
        "id": "mVuksdv1RvS8",
        "outputId": "7f2a30d1-9135-4961-96ec-870bae0e9c26"
      },
      "execution_count": null,
      "outputs": [
        {
          "output_type": "stream",
          "name": "stdout",
          "text": [
            "root\n",
            " |-- Title: string (nullable = true)\n",
            " |-- Video ID: string (nullable = true)\n",
            " |-- Published At: date (nullable = true)\n",
            " |-- Keyword: string (nullable = true)\n",
            " |-- Likes: integer (nullable = true)\n",
            " |-- Comments: integer (nullable = true)\n",
            " |-- Views: integer (nullable = true)\n",
            " |-- Interaction: integer (nullable = true)\n",
            " |-- Year: integer (nullable = true)\n",
            " |-- Month: integer (nullable = true)\n",
            " |-- Keyword Index: double (nullable = true)\n",
            " |-- Features PCA: vector (nullable = true)\n",
            " |-- Features Normal: vector (nullable = true)\n",
            " |-- Features: vector (nullable = true)\n",
            "\n"
          ]
        }
      ]
    },
    {
      "cell_type": "code",
      "source": [
        "df_video.groupBy('Keyword').count().show()"
      ],
      "metadata": {
        "colab": {
          "base_uri": "https://localhost:8080/"
        },
        "id": "0UvNK8GMR70i",
        "outputId": "e6ac0cb2-afea-424b-fe9d-022fcb722622"
      },
      "execution_count": null,
      "outputs": [
        {
          "output_type": "stream",
          "name": "stdout",
          "text": [
            "+----------------+-----+\n",
            "|         Keyword|count|\n",
            "+----------------+-----+\n",
            "|computer science|   48|\n",
            "|            lofi|   40|\n",
            "|         finance|   39|\n",
            "|             cnn|   50|\n",
            "|           apple|   42|\n",
            "|            news|   39|\n",
            "|         mukbang|   45|\n",
            "|       education|   24|\n",
            "|       interview|   50|\n",
            "|          crypto|   50|\n",
            "|   mathchemistry|   15|\n",
            "|            food|   48|\n",
            "|    data science|   50|\n",
            "|        trolling|   50|\n",
            "|        tutorial|   50|\n",
            "|      literature|   46|\n",
            "|             sat|   49|\n",
            "|         history|   49|\n",
            "|           cubes|   49|\n",
            "|           music|   46|\n",
            "+----------------+-----+\n",
            "only showing top 20 rows\n",
            "\n"
          ]
        }
      ]
    },
    {
      "cell_type": "code",
      "source": [
        "df_video.groupBy('Keyword').agg(format_number(avg('Interaction'), 2).alias('media Interaction')).show()"
      ],
      "metadata": {
        "colab": {
          "base_uri": "https://localhost:8080/"
        },
        "id": "9f3AbWRJTvlx",
        "outputId": "f7f8f3d9-857f-45e3-a375-0d1d280a0874"
      },
      "execution_count": null,
      "outputs": [
        {
          "output_type": "stream",
          "name": "stdout",
          "text": [
            "+----------------+-----------------+\n",
            "|         Keyword|media Interaction|\n",
            "+----------------+-----------------+\n",
            "|computer science|     1,226,793.02|\n",
            "|            lofi|     4,167,085.88|\n",
            "|         finance|       708,542.95|\n",
            "|             cnn|       570,650.86|\n",
            "|           apple|    10,873,628.21|\n",
            "|            news|       251,688.72|\n",
            "|         mukbang|    11,053,630.38|\n",
            "|       education|     2,750,838.62|\n",
            "|       interview|     3,044,867.04|\n",
            "|          crypto|       413,676.20|\n",
            "|   mathchemistry|     3,427,342.73|\n",
            "|            food|     5,352,944.10|\n",
            "|    data science|       562,465.28|\n",
            "|        trolling|     1,484,584.88|\n",
            "|        tutorial|     6,936,688.30|\n",
            "|      literature|       881,726.50|\n",
            "|             sat|     1,098,927.00|\n",
            "|         history|    15,652,692.57|\n",
            "|           cubes|    15,043,961.22|\n",
            "|           music|    29,691,370.30|\n",
            "+----------------+-----------------+\n",
            "only showing top 20 rows\n",
            "\n"
          ]
        }
      ]
    },
    {
      "cell_type": "code",
      "source": [
        "df_video.groupBy('Keyword').agg(max('Interaction').alias('Rank Interactions')).orderBy(desc('Rank Interactions')).show()"
      ],
      "metadata": {
        "colab": {
          "base_uri": "https://localhost:8080/"
        },
        "id": "ce7q_n_iVIiY",
        "outputId": "8a1271ff-d486-412f-f816-cbba1ced4c39"
      },
      "execution_count": null,
      "outputs": [
        {
          "output_type": "stream",
          "name": "stdout",
          "text": [
            "+--------+-----------------+\n",
            "| Keyword|Rank Interactions|\n",
            "+--------+-----------------+\n",
            "| animals|       1593623628|\n",
            "|   music|        922551152|\n",
            "|     bed|        532691631|\n",
            "| history|        440187490|\n",
            "|   apple|        429916936|\n",
            "| mrbeast|        300397699|\n",
            "|  google|        239385460|\n",
            "|business|        210025196|\n",
            "|   cubes|        170925917|\n",
            "|  sports|        106924567|\n",
            "| mukbang|         87433858|\n",
            "|    lofi|         86445177|\n",
            "|tutorial|         69616442|\n",
            "|  movies|         65253870|\n",
            "|  marvel|         56247330|\n",
            "|  how-to|         53053975|\n",
            "|    food|         48754479|\n",
            "| physics|         43463298|\n",
            "|    asmr|         34411125|\n",
            "|nintendo|         32268486|\n",
            "+--------+-----------------+\n",
            "only showing top 20 rows\n",
            "\n"
          ]
        }
      ]
    },
    {
      "cell_type": "code",
      "source": [
        "df_video.groupBy('Keyword').agg(format_number(avg('Likes'), 2).alias('media Likes'),\n",
        "                                format_number(var_samp('Likes'), 2).alias('variância Likes')).show()"
      ],
      "metadata": {
        "colab": {
          "base_uri": "https://localhost:8080/"
        },
        "id": "QIW5_pIXWh_6",
        "outputId": "89a73d68-142f-4ec4-ca8a-2a65f944acd2"
      },
      "execution_count": null,
      "outputs": [
        {
          "output_type": "stream",
          "name": "stdout",
          "text": [
            "+----------------+-----------+--------------------+\n",
            "|         Keyword|media Likes|     variância Likes|\n",
            "+----------------+-----------+--------------------+\n",
            "|computer science|  33,663.54|    2,030,136,676.30|\n",
            "|            lofi|  75,263.68|   67,951,488,729.40|\n",
            "|         finance|  13,235.49|    1,285,092,542.36|\n",
            "|             cnn|   8,835.74|       52,239,414.93|\n",
            "|           apple| 118,078.90|  408,226,900,985.16|\n",
            "|            news|   3,013.10|       23,296,795.36|\n",
            "|         mukbang| 141,406.64|   87,236,124,034.19|\n",
            "|       education|  62,292.33|   12,301,056,627.97|\n",
            "|       interview|  73,326.94|   12,322,827,963.40|\n",
            "|          crypto|   8,521.36|      838,950,927.62|\n",
            "|   mathchemistry|  93,848.67|   25,924,833,047.10|\n",
            "|            food|  95,014.65|   16,164,496,897.04|\n",
            "|    data science|  17,175.78|      501,319,417.89|\n",
            "|        trolling|  61,387.04|   10,309,316,974.98|\n",
            "|        tutorial| 167,720.88|   62,167,859,559.05|\n",
            "|      literature|  17,825.41|      347,735,617.05|\n",
            "|             sat|  31,030.80|   10,368,412,698.00|\n",
            "|         history| 278,938.51|1,176,162,033,408.38|\n",
            "|           cubes| 302,312.27|  223,969,979,952.70|\n",
            "|           music| 314,188.11|1,268,869,738,770.37|\n",
            "+----------------+-----------+--------------------+\n",
            "only showing top 20 rows\n",
            "\n"
          ]
        }
      ]
    },
    {
      "cell_type": "code",
      "source": [
        "df_video.groupBy('Keyword').agg(format_number(avg('Likes'), 0).alias('media Likes'),\n",
        "                                format_number(min('Likes'), 0).alias('mínimo Likes'),\n",
        "                                format_number(max('Likes'), 0).alias('máximo Likes')).show()"
      ],
      "metadata": {
        "colab": {
          "base_uri": "https://localhost:8080/"
        },
        "id": "0NheB_EMYInA",
        "outputId": "0fada72e-ad5c-47e8-f9c7-ca5c7b812331"
      },
      "execution_count": null,
      "outputs": [
        {
          "output_type": "stream",
          "name": "stdout",
          "text": [
            "+----------------+-----------+------------+------------+\n",
            "|         Keyword|media Likes|mínimo Likes|máximo Likes|\n",
            "+----------------+-----------+------------+------------+\n",
            "|computer science|     33,664|          32|     202,969|\n",
            "|            lofi|     75,264|          53|   1,638,369|\n",
            "|         finance|     13,235|          13|     213,398|\n",
            "|             cnn|      8,836|         544|      31,563|\n",
            "|           apple|    118,079|         184|   4,144,389|\n",
            "|            news|      3,013|          82|      23,828|\n",
            "|         mukbang|    141,407|          -1|   1,221,507|\n",
            "|       education|     62,292|         324|     431,284|\n",
            "|       interview|     73,327|          97|     493,471|\n",
            "|          crypto|      8,521|          66|     182,663|\n",
            "|   mathchemistry|     93,849|           0|     542,855|\n",
            "|            food|     95,015|         774|     672,749|\n",
            "|    data science|     17,176|          71|     118,846|\n",
            "|        trolling|     61,387|         344|     455,277|\n",
            "|        tutorial|    167,721|       1,341|     981,522|\n",
            "|      literature|     17,825|          48|      66,550|\n",
            "|             sat|     31,031|         407|     712,273|\n",
            "|         history|    278,939|         160|   5,471,653|\n",
            "|           cubes|    302,312|         150|   2,307,773|\n",
            "|           music|    314,188|          94|   6,823,113|\n",
            "+----------------+-----------+------------+------------+\n",
            "only showing top 20 rows\n",
            "\n"
          ]
        }
      ]
    },
    {
      "cell_type": "code",
      "source": [
        "df_video.groupBy('Keyword').agg(first('Published At').alias('primeira publicação'),\n",
        "                                last('Published At').alias('última publicação')).show()"
      ],
      "metadata": {
        "colab": {
          "base_uri": "https://localhost:8080/"
        },
        "id": "biIwSH3GZxD-",
        "outputId": "4b9d934d-733f-42a4-9bb8-c015737336c3"
      },
      "execution_count": null,
      "outputs": [
        {
          "output_type": "stream",
          "name": "stdout",
          "text": [
            "+----------------+-------------------+-----------------+\n",
            "|         Keyword|primeira publicação|última publicação|\n",
            "+----------------+-------------------+-----------------+\n",
            "|computer science|         2022-02-08|       2020-09-08|\n",
            "|            lofi|         2022-06-07|       2020-07-19|\n",
            "|         finance|         2020-09-23|       2017-12-31|\n",
            "|             cnn|         2022-08-17|       2022-08-13|\n",
            "|           apple|         2022-08-22|       2022-08-02|\n",
            "|            news|         2022-08-22|       2022-08-23|\n",
            "|         mukbang|         2020-04-18|       2022-08-24|\n",
            "|       education|         2015-02-06|       2010-10-14|\n",
            "|       interview|         2021-08-03|       2018-10-05|\n",
            "|          crypto|         2022-08-23|       2022-08-22|\n",
            "|   mathchemistry|         2020-08-11|       2019-10-04|\n",
            "|            food|         2022-07-17|       2022-08-20|\n",
            "|    data science|         2019-08-18|       2021-08-06|\n",
            "|        trolling|         2022-08-23|       2022-07-20|\n",
            "|        tutorial|         2018-06-01|       2022-08-17|\n",
            "|      literature|         2016-08-05|       2016-01-15|\n",
            "|             sat|         2022-03-11|       2016-06-16|\n",
            "|         history|         2022-04-13|       2016-01-26|\n",
            "|           cubes|         2022-04-20|       2021-12-03|\n",
            "|           music|         2022-02-08|       2022-01-25|\n",
            "+----------------+-------------------+-----------------+\n",
            "only showing top 20 rows\n",
            "\n"
          ]
        }
      ]
    },
    {
      "cell_type": "code",
      "source": [
        "df_video.groupBy('Title').agg(count('Title').alias('Normal'),countDistinct('Title').alias('Distinto')).show()"
      ],
      "metadata": {
        "colab": {
          "base_uri": "https://localhost:8080/"
        },
        "id": "LXpucafaa03x",
        "outputId": "b043e271-7c20-415f-909a-5c0cf51f04b9"
      },
      "execution_count": null,
      "outputs": [
        {
          "output_type": "stream",
          "name": "stdout",
          "text": [
            "+--------------------+------+--------+\n",
            "|               Title|Normal|Distinto|\n",
            "+--------------------+------+--------+\n",
            "|Military Tank Exp...|     1|       1|\n",
            "|Heart Of The Fore...|     1|       1|\n",
            "|My College Advice...|     1|       1|\n",
            "|Physicists At CER...|     1|       1|\n",
            "|How To ACTUALLY G...|     1|       1|\n",
            "|SEAFOOD MUKBANG |...|     1|       1|\n",
            "|Nintendo Switch S...|     1|       1|\n",
            "|Numbaa 7 - Chess ...|     1|       1|\n",
            "|Music Mix 2022 🎧...|     1|       1|\n",
            "|🔥5 CRYPTO COINS ...|     1|       1|\n",
            "|50 Cent Talks &qu...|     1|       1|\n",
            "|Representing Numb...|     1|       1|\n",
            "|Punishing Beginne...|     1|       1|\n",
            "|World&#39;s *WEIR...|     1|       1|\n",
            "|Trolling Jet Grie...|     1|       1|\n",
            "|What Is Data Scie...|     1|       1|\n",
            "|I Built MrBeast’s...|     1|       1|\n",
            "|Music Mix 2022 🎧...|     1|       1|\n",
            "|Apple September 6...|     1|       1|\n",
            "|Fulham v. Brentfo...|     1|       1|\n",
            "+--------------------+------+--------+\n",
            "only showing top 20 rows\n",
            "\n"
          ]
        }
      ]
    },
    {
      "cell_type": "code",
      "source": [
        "df_video.groupBy('Year').agg(count('Year').alias('Registros')).orderBy('Year').show()"
      ],
      "metadata": {
        "colab": {
          "base_uri": "https://localhost:8080/"
        },
        "id": "lFMgxWVUgO38",
        "outputId": "a2e8847e-e96f-4117-bdae-ca4e75a20a45"
      },
      "execution_count": null,
      "outputs": [
        {
          "output_type": "stream",
          "name": "stdout",
          "text": [
            "+----+---------+\n",
            "|Year|Registros|\n",
            "+----+---------+\n",
            "|2007|        2|\n",
            "|2008|        1|\n",
            "|2009|        9|\n",
            "|2010|        6|\n",
            "|2011|        4|\n",
            "|2012|       12|\n",
            "|2013|        6|\n",
            "|2014|       10|\n",
            "|2015|       15|\n",
            "|2016|       34|\n",
            "|2017|       47|\n",
            "|2018|       57|\n",
            "|2019|       86|\n",
            "|2020|      158|\n",
            "|2021|      229|\n",
            "|2022|     1193|\n",
            "+----+---------+\n",
            "\n"
          ]
        }
      ]
    },
    {
      "cell_type": "code",
      "source": [
        "df_video.groupBy('Year').agg(count('Year').alias('Registros')).orderBy('Registros').show()"
      ],
      "metadata": {
        "colab": {
          "base_uri": "https://localhost:8080/"
        },
        "id": "AczZ_Kjldn5O",
        "outputId": "3607208b-4fe0-46f5-f5f9-b64ab641083d"
      },
      "execution_count": null,
      "outputs": [
        {
          "output_type": "stream",
          "name": "stdout",
          "text": [
            "+----+---------+\n",
            "|Year|Registros|\n",
            "+----+---------+\n",
            "|2008|        1|\n",
            "|2007|        2|\n",
            "|2011|        4|\n",
            "|2013|        6|\n",
            "|2010|        6|\n",
            "|2009|        9|\n",
            "|2014|       10|\n",
            "|2012|       12|\n",
            "|2015|       15|\n",
            "|2016|       34|\n",
            "|2017|       47|\n",
            "|2018|       57|\n",
            "|2019|       86|\n",
            "|2020|      158|\n",
            "|2021|      229|\n",
            "|2022|     1193|\n",
            "+----+---------+\n",
            "\n"
          ]
        }
      ]
    },
    {
      "cell_type": "code",
      "metadata": {
        "colab": {
          "base_uri": "https://localhost:8080/"
        },
        "id": "7a3b4771",
        "outputId": "ebfbded2-df44-4ab6-87ed-b1bdcb474dd9"
      },
      "source": [
        "df_video.groupBy('Year', 'Month').agg(count('Year').alias('Registros')).orderBy('Year', 'Month').show()"
      ],
      "execution_count": null,
      "outputs": [
        {
          "output_type": "stream",
          "name": "stdout",
          "text": [
            "+----+-----+---------+\n",
            "|Year|Month|Registros|\n",
            "+----+-----+---------+\n",
            "|2007|    7|        1|\n",
            "|2007|   12|        1|\n",
            "|2008|    7|        1|\n",
            "|2009|    2|        2|\n",
            "|2009|    6|        2|\n",
            "|2009|    7|        1|\n",
            "|2009|    8|        1|\n",
            "|2009|   10|        1|\n",
            "|2009|   12|        2|\n",
            "|2010|    3|        1|\n",
            "|2010|    5|        2|\n",
            "|2010|    6|        1|\n",
            "|2010|    9|        1|\n",
            "|2010|   10|        1|\n",
            "|2011|    2|        1|\n",
            "|2011|    5|        1|\n",
            "|2011|    9|        1|\n",
            "|2011|   10|        1|\n",
            "|2012|    1|        1|\n",
            "|2012|    2|        3|\n",
            "+----+-----+---------+\n",
            "only showing top 20 rows\n",
            "\n"
          ]
        }
      ]
    },
    {
      "cell_type": "code",
      "source": [
        "df_video.groupBy('Year', 'Month').agg(count('Year').alias('Registros')).orderBy('Registros').show()"
      ],
      "metadata": {
        "colab": {
          "base_uri": "https://localhost:8080/"
        },
        "id": "Q_KB7fJCgW7e",
        "outputId": "01883858-e437-4202-8572-197094dbc934"
      },
      "execution_count": null,
      "outputs": [
        {
          "output_type": "stream",
          "name": "stdout",
          "text": [
            "+----+-----+---------+\n",
            "|Year|Month|Registros|\n",
            "+----+-----+---------+\n",
            "|2011|    2|        1|\n",
            "|2010|    9|        1|\n",
            "|2016|    7|        1|\n",
            "|2015|   12|        1|\n",
            "|2012|    8|        1|\n",
            "|2012|    4|        1|\n",
            "|2015|    8|        1|\n",
            "|2014|   12|        1|\n",
            "|2013|    3|        1|\n",
            "|2013|    6|        1|\n",
            "|2010|    6|        1|\n",
            "|2015|    4|        1|\n",
            "|2012|   10|        1|\n",
            "|2015|    2|        1|\n",
            "|2015|   11|        1|\n",
            "|2016|   10|        1|\n",
            "|2009|   10|        1|\n",
            "|2008|    7|        1|\n",
            "|2011|    5|        1|\n",
            "|2016|   12|        1|\n",
            "+----+-----+---------+\n",
            "only showing top 20 rows\n",
            "\n"
          ]
        }
      ]
    },
    {
      "source": [
        "janela = Window.partitionBy('Keyword').orderBy('Year')\n",
        "df_video = df_video.withColumn('Likes por ano', format_number(avg('Likes').over(janela),2))\n",
        "df_video.select('Keyword', 'Year', 'Likes por ano').show()"
      ],
      "cell_type": "code",
      "metadata": {
        "colab": {
          "base_uri": "https://localhost:8080/"
        },
        "id": "RQNZhfmimCcr",
        "outputId": "8cb416e0-5058-4fa7-ef7b-1e74c9350c01"
      },
      "execution_count": null,
      "outputs": [
        {
          "output_type": "stream",
          "name": "stdout",
          "text": [
            "+-------+----+-------------+\n",
            "|Keyword|Year|Likes por ano|\n",
            "+-------+----+-------------+\n",
            "|animals|2009| 1,357,197.00|\n",
            "|animals|2010|   587,977.00|\n",
            "|animals|2010|   587,977.00|\n",
            "|animals|2013| 3,197,276.75|\n",
            "|animals|2014| 3,258,727.83|\n",
            "|animals|2014| 3,258,727.83|\n",
            "|animals|2019| 2,950,868.57|\n",
            "|animals|2020| 1,723,934.31|\n",
            "|animals|2020| 1,723,934.31|\n",
            "|animals|2020| 1,723,934.31|\n",
            "|animals|2020| 1,723,934.31|\n",
            "|animals|2020| 1,723,934.31|\n",
            "|animals|2020| 1,723,934.31|\n",
            "|animals|2020| 1,723,934.31|\n",
            "|animals|2020| 1,723,934.31|\n",
            "|animals|2020| 1,723,934.31|\n",
            "|animals|2021| 1,186,866.12|\n",
            "|animals|2021| 1,186,866.12|\n",
            "|animals|2021| 1,186,866.12|\n",
            "|animals|2021| 1,186,866.12|\n",
            "+-------+----+-------------+\n",
            "only showing top 20 rows\n",
            "\n"
          ]
        }
      ]
    },
    {
      "cell_type": "code",
      "source": [
        "spark.stop()"
      ],
      "metadata": {
        "id": "tR8Cx9QOofMy"
      },
      "execution_count": null,
      "outputs": []
    }
  ]
}